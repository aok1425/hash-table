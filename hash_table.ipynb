{
 "metadata": {
  "name": "",
  "signature": "sha256:05b39f90139bf040ffc1cf6f9fdb30b72bb347a72476646dc71e2450ca0ebca0"
 },
 "nbformat": 3,
 "nbformat_minor": 0,
 "worksheets": [
  {
   "cells": [
    {
     "cell_type": "markdown",
     "metadata": {},
     "source": [
      "#Basic implementation of hash tables using Python\n",
      "\n",
      "After having only watched [this video](https://www.youtube.com/watch?v=h2d9b_nEzoA) on hash tables, let's implement one in Python, using constraints I'd have in C. For example, I won't use a dictionary, and I will not change the size of an array.\n",
      "\n",
      "## Basic version\n",
      "\n",
      "Let's start by making an array, and fixing its size at 100 elements."
     ]
    },
    {
     "cell_type": "code",
     "collapsed": false,
     "input": [
      "values = [None for i in range(100)]"
     ],
     "language": "python",
     "metadata": {},
     "outputs": [],
     "prompt_number": 12
    },
    {
     "cell_type": "markdown",
     "metadata": {},
     "source": [
      "Now, let's make the hash function. This will be a really bad one, which hashes based on the first letter of the string passed to it."
     ]
    },
    {
     "cell_type": "code",
     "collapsed": false,
     "input": [
      "from string import ascii_lowercase\n",
      "\n",
      "def hash_fn(key):\n",
      "\tassert type(key) == str\n",
      "\t\n",
      "\tif key[0] in ascii_lowercase:\n",
      "\t\treturn ascii_lowercase.index(key[0])"
     ],
     "language": "python",
     "metadata": {},
     "outputs": [],
     "prompt_number": 13
    },
    {
     "cell_type": "markdown",
     "metadata": {},
     "source": [
      "Some tests to make sure it works:"
     ]
    },
    {
     "cell_type": "code",
     "collapsed": false,
     "input": [
      "assert hash_fn('a') == 0\n",
      "assert hash_fn('b') == 1\n",
      "assert hash_fn('y') == 24"
     ],
     "language": "python",
     "metadata": {},
     "outputs": [],
     "prompt_number": 14
    },
    {
     "cell_type": "markdown",
     "metadata": {},
     "source": [
      "And then the function to have the program use the hash function to store a value in the array:"
     ]
    },
    {
     "cell_type": "code",
     "collapsed": false,
     "input": [
      "def put_into_dict(word):\n",
      "\tword = word.lower()\n",
      "\tindex = hash_fn(word)\n",
      "\t\n",
      "\tif values[index] == None:\n",
      "\t\tvalues[index] = word\n",
      "\telse:\n",
      "\t\traise Exception # our collision error\n",
      "\n",
      "put_into_dict('games')\n",
      "put_into_dict('same')\n",
      "put_into_dict('xylophone')\n",
      "put_into_dict('alpha')\n",
      "\n",
      "assert values[0] == 'alpha'\n",
      "assert values[6] == 'games'\n",
      "assert values[18] == 'same'\n",
      "assert values[23] == 'xylophone'\n",
      "\n",
      "print values[:10]"
     ],
     "language": "python",
     "metadata": {},
     "outputs": [
      {
       "output_type": "stream",
       "stream": "stdout",
       "text": [
        "['alpha', None, None, None, None, None, 'games', None, None, None]\n"
       ]
      }
     ],
     "prompt_number": 15
    },
    {
     "cell_type": "markdown",
     "metadata": {},
     "source": [
      "## With separate chaining\n",
      "\n",
      "If we use separate chaining, we'll avoid collision errors by making each element in the array a linked list. The program will then have to iterate through the linked list, so the worst-case runtime in `O(n/k)`.\n",
      "\n",
      "I thought the closest thing to a linked list in Python is Python's `list`. It can grow to whatever size because it uses pointers underneath."
     ]
    },
    {
     "cell_type": "code",
     "collapsed": false,
     "input": [
      "values = [[] for i in range(100)]\n",
      "\n",
      "def put_into_dict(word):\n",
      "\tword = word.lower()\n",
      "\tindex = hash_fn(word)\n",
      "\tvalues[index].append(word)\n",
      "\n",
      "put_into_dict('games')\n",
      "put_into_dict('same')\n",
      "put_into_dict('xylophone')\n",
      "put_into_dict('alpha')\n",
      "put_into_dict('alex') # no collision error\n",
      "put_into_dict('ant')\n",
      "\n",
      "assert 'alpha' in values[0]\n",
      "assert 'games' in values[6]\n",
      "assert 'same' in values[18]\n",
      "assert 'xylophone' in values[23]\n",
      "\n",
      "print values[:5]"
     ],
     "language": "python",
     "metadata": {},
     "outputs": [
      {
       "output_type": "stream",
       "stream": "stdout",
       "text": [
        "[['alpha', 'alex', 'ant'], [], [], [], []]\n"
       ]
      }
     ],
     "prompt_number": 16
    },
    {
     "cell_type": "markdown",
     "metadata": {},
     "source": [
      "# Final notes\n",
      "\n",
      "- Unlike C, Python doesn't 'expose' pointers. If I assign a value to a variable, then I assign another variable to the first variable, the second variable points to the same thing as the first variable.\n",
      "- Also unlike C, a linked list is a primitive type in Python (assuming a linked list is indeed Python's list), so I didn't have to create the type from scratch.\n",
      "- I had my hash function here return a hash value that was an integer I used to index on the array. In Python, in order to index on an array, I need an integer. Maybe in C I can index an array not just with an integer, but with a string. Then, those hashes would look more like the long, complicated strings I see as MD5 hashes."
     ]
    }
   ],
   "metadata": {}
  }
 ]
}